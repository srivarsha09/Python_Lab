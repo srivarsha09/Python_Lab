{
 "cells": [
  {
   "cell_type": "code",
   "execution_count": 2,
   "id": "fa88c49c-cb6a-4c0c-80fc-5943186602ae",
   "metadata": {},
   "outputs": [
    {
     "name": "stdin",
     "output_type": "stream",
     "text": [
      "enter an number 34\n",
      "enter other number 35\n"
     ]
    },
    {
     "name": "stdout",
     "output_type": "stream",
     "text": [
      "result: 0.9714285714285714\n"
     ]
    }
   ],
   "source": [
    "#1.\tWrite a program that detects an Exception\n",
    "try:\n",
    "    num1=int(input(\"enter an number\"))\n",
    "    num2=int(input(\"enter other number\"))\n",
    "    result=num1/num2\n",
    "    print(\"result:\",result)\n",
    "except ZeroDivisionError:\n",
    "    print(\"Division by zero is not accepted\")\n",
    "except ValueError:\n",
    "    print(\"enter only integers\")\n",
    "except Exception as e:\n",
    "    print(\"an error occured\",str(e))"
   ]
  },
  {
   "cell_type": "code",
   "execution_count": 3,
   "id": "852ebaba-82eb-4d46-b7f2-facca9422350",
   "metadata": {},
   "outputs": [
    {
     "name": "stdin",
     "output_type": "stream",
     "text": [
      "enter the age 34\n"
     ]
    },
    {
     "name": "stdout",
     "output_type": "stream",
     "text": [
      "valid age\n"
     ]
    }
   ],
   "source": [
    "#2.\tWrite a program that raise an Exception ( divide by zero error,voter’s age validity\n",
    "def voter_age(age):\n",
    "    try:\n",
    "        num=int(age)\n",
    "        if(num>18):\n",
    "            print(\"valid age\")\n",
    "        elif(num<18):\n",
    "            print(\"not a valid age\")\n",
    "    except Exception as e:\n",
    "        print(\"enter only integers:\",str(e))\n",
    "num=input(\"enter the age\")\n",
    "voter_age(num)\n"
   ]
  },
  {
   "cell_type": "code",
   "execution_count": 4,
   "id": "e09c6ea8-c1dd-4947-958d-dfdefd45acbf",
   "metadata": {},
   "outputs": [
    {
     "name": "stdin",
     "output_type": "stream",
     "text": [
      "enter students marks 67\n"
     ]
    },
    {
     "name": "stdout",
     "output_type": "stream",
     "text": [
      "valid number\n"
     ]
    }
   ],
   "source": [
    "#3.\tWrite a program that raise an Exception as string(), student mark range validation\n",
    "def students_mark(marks):\n",
    "    try:\n",
    "        num=int(marks)\n",
    "        if(num>0):\n",
    "            print(\"valid number\")\n",
    "        elif(num<0 or num==0):\n",
    "            print(\"not valid\")\n",
    "    except Exception as e:\n",
    "        print(\"enter only integers :\",str(e))\n",
    "num=input(\"enter students marks\")\n",
    "students_mark(num)\n"
   ]
  },
  {
   "cell_type": "code",
   "execution_count": 5,
   "id": "17f76829-95de-48ba-9319-d8736026fafc",
   "metadata": {},
   "outputs": [
    {
     "name": "stdin",
     "output_type": "stream",
     "text": [
      "enter a number 89\n",
      "enter other number 90\n"
     ]
    },
    {
     "name": "stdout",
     "output_type": "stream",
     "text": [
      "result :  0.9888888888888889\n",
      "division successful\n",
      "program completed successfully\n"
     ]
    }
   ],
   "source": [
    "#4.\tUse the structure of exception handling all general purpose exceptions.\n",
    "try:\n",
    "    num1=int(input(\"enter a number\"))\n",
    "    num2=int(input(\"enter other number\"))\n",
    "    result=num1/num2\n",
    "    print(\"result : \",result)\n",
    "except Exception as e:\n",
    "    print(\"error occured :\",str(e))\n",
    "else:\n",
    "    print(\"division successful\")\n",
    "finally:\n",
    "    print(\"program completed successfully\")\n"
   ]
  },
  {
   "cell_type": "code",
   "execution_count": 6,
   "id": "c4b33253-b810-432e-b1a1-65b43d202ff9",
   "metadata": {},
   "outputs": [
    {
     "name": "stdin",
     "output_type": "stream",
     "text": [
      "enter phone number 6767890987\n"
     ]
    },
    {
     "name": "stdout",
     "output_type": "stream",
     "text": [
      "phone number is valid\n"
     ]
    }
   ],
   "source": [
    "#5. Write a python code to read a phone number and email-id from the user and validate it for correctness\n",
    "import re\n",
    "def Validate_phone(phone):\n",
    "    pattern=r'^\\d{10}$'\n",
    "    if re.match(pattern,phone):\n",
    "        return True\n",
    "    else:\n",
    "        return False\n",
    "try:\n",
    "    phone=input(\"enter phone number\")\n",
    "    if Validate_phone(phone):\n",
    "        print(\"phone number is valid\")\n",
    "    else:\n",
    "        print(\"phone number is not valid\")\n",
    "except Exception as e:\n",
    "    print(\"exception : \",str(e))\n"
   ]
  },
  {
   "cell_type": "code",
   "execution_count": 7,
   "id": "7db397a3-0c08-4492-aabc-43dd1e340e53",
   "metadata": {},
   "outputs": [
    {
     "name": "stdin",
     "output_type": "stream",
     "text": [
      "enter your email-id hhy\n"
     ]
    },
    {
     "name": "stdout",
     "output_type": "stream",
     "text": [
      "id is incorrect\n"
     ]
    }
   ],
   "source": [
    "#5. Write a python code to read a phone number and email-id from the user and validate it for correctness\n",
    "\n",
    "import re\n",
    "def email_id(id):\n",
    "    pattern=r'^[a-zA-Z0-9._+*-]+@[a-zA-Z0-9.-]+\\.[a-zA-Z]{2,}$'\n",
    "    if re.match(pattern,id):\n",
    "        return True\n",
    "    else:\n",
    "        return False\n",
    "try:\n",
    "    id=input(\"enter your email-id\")\n",
    "    if(email_id(id)):\n",
    "        print(\"id is correct\")\n",
    "    else:\n",
    "        print(\"id is incorrect\")\n",
    "except Exception as e:\n",
    "    print(\"Exception : \",str(e))\n"
   ]
  },
  {
   "cell_type": "code",
   "execution_count": null,
   "id": "157ab0a4-b85e-4f64-a2d5-b8a19b2b4e69",
   "metadata": {},
   "outputs": [],
   "source": []
  }
 ],
 "metadata": {
  "kernelspec": {
   "display_name": "Python 3 (ipykernel)",
   "language": "python",
   "name": "python3"
  },
  "language_info": {
   "codemirror_mode": {
    "name": "ipython",
    "version": 3
   },
   "file_extension": ".py",
   "mimetype": "text/x-python",
   "name": "python",
   "nbconvert_exporter": "python",
   "pygments_lexer": "ipython3",
   "version": "3.12.1"
  }
 },
 "nbformat": 4,
 "nbformat_minor": 5
}
