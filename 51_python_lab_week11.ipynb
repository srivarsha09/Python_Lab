{
 "cells": [
  {
   "cell_type": "code",
   "execution_count": 3,
   "id": "2260648d-0d26-488f-bcc4-a02e468f3062",
   "metadata": {},
   "outputs": [
    {
     "name": "stdout",
     "output_type": "stream",
     "text": [
      "1000.0\n",
      "8.0\n",
      "1.0\n",
      "0.7071067811865475\n"
     ]
    }
   ],
   "source": [
    "#1. Import SciPy and explore their functionalities.\n",
    "from scipy import special\n",
    "a = special.exp10(3)\n",
    "print(a)\n",
    "b = special.exp2(3)\n",
    "print(b)\n",
    "c = special.sindg(90)\n",
    "print(c)\n",
    "d = special.cosdg(45)\n",
    "print(d)\n"
   ]
  },
  {
   "cell_type": "code",
   "execution_count": 5,
   "id": "ebfce1ee-f498-4a05-9992-0a7968c54afc",
   "metadata": {},
   "outputs": [],
   "source": [
    "#2. Write a GUI program to create a window wizard having two text labels, two text fields and two buttons as Submit and Reset.\n",
    "import tkinter as tk\n",
    "\n",
    "def submit():\n",
    "    value1 = entry1.get()\n",
    "    value2 = entry2.get()\n",
    "    value3 = entry3.get()\n",
    "    label_result.config(text=f\"Value 1: {value1}\\nValue 2: {value2}\\nValue 3: {value3}\")\n",
    "\n",
    "def reset():\n",
    "    entry1.delete(0, tk.END)\n",
    "    entry2.delete(0, tk.END)\n",
    "    entry3.delete(0, tk.END)\n",
    "    label_result.config(text=\"Result:\")\n",
    "\n",
    "# Create the main window\n",
    "root = tk.Tk()\n",
    "root.geometry(\"300x300\")\n",
    "root.title(\"Window Wizard\")\n",
    "\n",
    "# Create labels\n",
    "label1 = tk.Label(root, text=\"Enter Value 1:\")\n",
    "label2 = tk.Label(root, text=\"Enter Value 2:\")\n",
    "label3 = tk.Label(root, text=\"Enter Value 3:\")\n",
    "\n",
    "# Create entry fields\n",
    "entry1 = tk.Entry(root)\n",
    "entry2 = tk.Entry(root)\n",
    "entry3 = tk.Entry(root)\n",
    "\n",
    "# Create buttons\n",
    "submit_button = tk.Button(root, text=\"Submit\", command=submit)\n",
    "reset_button = tk.Button(root, text=\"Reset\", command=reset)\n",
    "\n",
    "# Arrange widgets using grid layout\n",
    "label1.grid(row=0, column=0, padx=10, pady=5)\n",
    "entry1.grid(row=0, column=1, padx=10, pady=5)\n",
    "label2.grid(row=1, column=0, padx=10, pady=5)\n",
    "entry2.grid(row=1, column=1, padx=10, pady=5)\n",
    "label3.grid(row=2, column=0, padx=10, pady=5)\n",
    "entry3.grid(row=2, column=1, padx=10, pady=5)\n",
    "submit_button.grid(row=3, column=0, columnspan=2, pady=10)\n",
    "reset_button.grid(row=4, column=0, columnspan=2, pady=10)\n",
    "\n",
    "label_result = tk.Label(root, text=\"Result:\")\n",
    "label_result.grid(row=5, column=0, columnspan=2, pady=5)\n",
    "\n",
    "# Start the main event loop\n",
    "root.mainloop()\n"
   ]
  },
  {
   "cell_type": "code",
   "execution_count": null,
   "id": "e41627b7-9d5f-4308-93cb-d1189f358ce5",
   "metadata": {},
   "outputs": [],
   "source": []
  }
 ],
 "metadata": {
  "kernelspec": {
   "display_name": "Python 3 (ipykernel)",
   "language": "python",
   "name": "python3"
  },
  "language_info": {
   "codemirror_mode": {
    "name": "ipython",
    "version": 3
   },
   "file_extension": ".py",
   "mimetype": "text/x-python",
   "name": "python",
   "nbconvert_exporter": "python",
   "pygments_lexer": "ipython3",
   "version": "3.12.1"
  }
 },
 "nbformat": 4,
 "nbformat_minor": 5
}
