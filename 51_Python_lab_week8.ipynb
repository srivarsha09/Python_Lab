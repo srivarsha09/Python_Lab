{
 "cells": [
  {
   "cell_type": "code",
   "execution_count": 7,
   "id": "68ce5063-feff-4ae2-a2c9-fefb4ac26851",
   "metadata": {},
   "outputs": [],
   "source": [
    "#1. Write a Python code to merge two given file contents into a third file. \n",
    "file1=open(\"t1.txt\",\"w\",encoding=\"utf-8\")\n",
    "file2=open(\"t2.txt\",\"w\")\n",
    "file1.write(\"hello\")\n",
    "file2.write(\"world!\")\n",
    "file1.close()\n",
    "file2.close()\n",
    "file1=open(\"t1.txt\",\"r\")\n",
    "data1=file1.read()\n",
    "file2=open(\"t2.txt\",\"r\")\n",
    "data2=file2.read()\n",
    "file1.close()\n",
    "file2.close()\n",
    "file3=open(\"t3.txt\",\"w\")\n",
    "file3.write(data1+\" \"+data2)\n",
    "file3.close()\n",
    "file3=open(\"t3.txt\",\"r\")\n",
    "data=file3.read()\n",
    "file3.close()\n",
    "\n",
    "\n",
    "\n",
    "\n",
    "\n"
   ]
  },
  {
   "cell_type": "code",
   "execution_count": null,
   "id": "a3a79bea-8b39-47cc-a5e8-a0bbdb5c61e3",
   "metadata": {},
   "outputs": [],
   "source": []
  },
  {
   "cell_type": "code",
   "execution_count": null,
   "id": "d9e7637e-0c13-4faf-931f-2db8a2cb66fe",
   "metadata": {},
   "outputs": [],
   "source": []
  }
 ],
 "metadata": {
  "kernelspec": {
   "display_name": "Python 3 (ipykernel)",
   "language": "python",
   "name": "python3"
  },
  "language_info": {
   "codemirror_mode": {
    "name": "ipython",
    "version": 3
   },
   "file_extension": ".py",
   "mimetype": "text/x-python",
   "name": "python",
   "nbconvert_exporter": "python",
   "pygments_lexer": "ipython3",
   "version": "3.12.1"
  }
 },
 "nbformat": 4,
 "nbformat_minor": 5
}
