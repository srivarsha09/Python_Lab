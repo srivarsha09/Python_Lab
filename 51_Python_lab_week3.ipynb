{
 "cells": [
  {
   "cell_type": "code",
   "execution_count": 1,
   "id": "5bebbf8b-b168-485c-86a6-0abcad549452",
   "metadata": {},
   "outputs": [
    {
     "name": "stdout",
     "output_type": "stream",
     "text": [
      "Array from list: [1 2 3 4 5]\n",
      "Array from tuple: [10 20 30 40 50]\n"
     ]
    }
   ],
   "source": [
    "#1. i) Write a program to convert a list and tuple into arrays.\n",
    "import numpy as np\n",
    "list = [1, 2, 3, 4, 5]\n",
    "tuple = (10, 20, 30, 40, 50)\n",
    "list_array = np.array(list)\n",
    "tuple_array = np.array(tuple)\n",
    "print(\"Array from list:\", list_array)\n",
    "print(\"Array from tuple:\", tuple_array)\n"
   ]
  },
  {
   "cell_type": "code",
   "execution_count": 21,
   "id": "e0a03ac5-d4ef-4abd-9696-728f9bc4b6f4",
   "metadata": {},
   "outputs": [
    {
     "name": "stdout",
     "output_type": "stream",
     "text": [
      "Common values: [4, 5]\n"
     ]
    }
   ],
   "source": [
    "#1 ii)Write a program to find common values between two arrays\n",
    "list1 = [1, 2, 3, 4, 5]\n",
    "list2 = [4, 5, 6, 7, 8]\n",
    "\n",
    "set1 = set(list1)\n",
    "set2 = set(list2)\n",
    "\n",
    "c_values = set1 & set2\n",
    "\n",
    "c_values_list = list(c_values)\n",
    "\n",
    "print(\"Common values:\", c_values_list)\n"
   ]
  },
  {
   "cell_type": "code",
   "execution_count": 5,
   "id": "1e85f9ec-2c0a-4d45-9288-0277bac82522",
   "metadata": {},
   "outputs": [
    {
     "name": "stdout",
     "output_type": "stream",
     "text": [
      "The GCD of 48 and 18 is 6\n"
     ]
    }
   ],
   "source": [
    "#2. Write a function called gcd that takes parameters a and b and returns their greatest common divisor\n",
    "import math\n",
    "num1 = 48\n",
    "num2 = 18\n",
    "math.gcd(num1,num2)\n",
    "print(f\"The GCD of {num1} and {num2} is {gcd(num1, num2)}\")\n"
   ]
  },
  {
   "cell_type": "code",
   "execution_count": 8,
   "id": "14823028-bc30-4136-a160-fc180685c0a3",
   "metadata": {},
   "outputs": [
    {
     "name": "stdout",
     "output_type": "stream",
     "text": [
      "palindrome\n"
     ]
    }
   ],
   "source": [
    "#3.Palindrome\n",
    "def palindrome(s):\n",
    "    s = s.lower()\n",
    "    s = s.replace(\" \", \"\")\n",
    "    s1=s[::-1]\n",
    "    if s==s1:\n",
    "        print(\"palindrome\")\n",
    "    else:\n",
    "        print(\"not palindrome\")\n",
    "\n",
    "test_string = \"racecar\"\n",
    "palindrome(test_string)"
   ]
  },
  {
   "cell_type": "code",
   "execution_count": 20,
   "id": "92cb03a8-41f0-4cdd-8b0c-b76591afc352",
   "metadata": {},
   "outputs": [
    {
     "name": "stdout",
     "output_type": "stream",
     "text": [
      "MEAN= 38.57142857142857\n",
      "MEDIAN= 40\n",
      "MODE= 60\n"
     ]
    }
   ],
   "source": [
    "#4. Find mean, median, mode for the given set of numbers in a list.\n",
    "import statistics\n",
    "list3=[10,20,30,40,50,60,60]\n",
    "mean=statistics.mean(list3)\n",
    "median=statistics.median(list3)\n",
    "mode=statistics.mode(list3)\n",
    "print(f\"MEAN= {mean}\")\n",
    "print(f\"MEDIAN= {median}\")\n",
    "print(f\"MODE= {mode}\")"
   ]
  },
  {
   "cell_type": "code",
   "execution_count": 19,
   "id": "fc0ed953-28cc-4089-a6cb-6c3f851cb3c6",
   "metadata": {},
   "outputs": [
    {
     "name": "stdout",
     "output_type": "stream",
     "text": [
      "(34, 56, 76, 'sri')\n",
      "<class 'tuple'>\n"
     ]
    }
   ],
   "source": [
    "# 5. Write a Python program to create a tuple.\n",
    "tuple=(34,56,76,'sri')\n",
    "print(tuple)\n",
    "print(type(tuple))\n"
   ]
  },
  {
   "cell_type": "code",
   "execution_count": 17,
   "id": "b7151f92-c83f-4a96-ba31-cd0d78c4cfee",
   "metadata": {},
   "outputs": [
    {
     "name": "stdout",
     "output_type": "stream",
     "text": [
      "('hello', 1, False)\n"
     ]
    }
   ],
   "source": [
    "# 6. Write a Python program to create a tuple with different data types.\n",
    "tuple=(\"hello\",1,False)\n",
    "print(tuple)"
   ]
  },
  {
   "cell_type": "code",
   "execution_count": 15,
   "id": "ecdd30da-a8da-4efd-97a0-c74a3413026c",
   "metadata": {},
   "outputs": [
    {
     "name": "stdout",
     "output_type": "stream",
     "text": [
      "Yes\n"
     ]
    }
   ],
   "source": [
    "# 7. Write a Python program to check whether an element exists within a tuple.\n",
    "tuple3=(\"hi\",1,2,3,False)\n",
    "if \"hi\" in tuple3:\n",
    "    print(\"Yes\")\n",
    "else:\n",
    "    print(\"No\")"
   ]
  },
  {
   "cell_type": "code",
   "execution_count": null,
   "id": "ac38226e-6644-4337-b9ea-094ae7c19972",
   "metadata": {},
   "outputs": [],
   "source": []
  }
 ],
 "metadata": {
  "kernelspec": {
   "display_name": "Python 3 (ipykernel)",
   "language": "python",
   "name": "python3"
  },
  "language_info": {
   "codemirror_mode": {
    "name": "ipython",
    "version": 3
   },
   "file_extension": ".py",
   "mimetype": "text/x-python",
   "name": "python",
   "nbconvert_exporter": "python",
   "pygments_lexer": "ipython3",
   "version": "3.12.1"
  }
 },
 "nbformat": 4,
 "nbformat_minor": 5
}
