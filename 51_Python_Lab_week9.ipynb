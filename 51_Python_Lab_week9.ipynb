{
 "cells": [
  {
   "cell_type": "code",
   "execution_count": 7,
   "id": "3a3fbf74-0720-4565-ad20-2f839790814e",
   "metadata": {},
   "outputs": [
    {
     "name": "stdout",
     "output_type": "stream",
     "text": [
      "[10 20 30 40 50]\n",
      "<class 'numpy.ndarray'>\n",
      "[1 2 3 4 5]\n",
      "1\n",
      "[[1 2 3]\n",
      " [4 5 6]]\n",
      "5\n",
      "[4 5 6]\n",
      "2\n",
      "4\n",
      "int32\n",
      "6\n",
      "(2, 3)\n",
      "[[1 2]\n",
      " [3 4]\n",
      " [5 6]]\n",
      "[3 6]\n",
      "1\n",
      "6\n",
      "21\n"
     ]
    }
   ],
   "source": [
    "#1. Import numpy, and explore their functionalities.\n",
    "#Creating Arrays:\n",
    "import numpy as np \n",
    "arr1 = np.array([10,20,30,40,50]) \n",
    "print(arr1)\n",
    "print(type(arr1)) \n",
    "\n",
    "#1-D Arrays\n",
    "import numpy as np\n",
    "arr = np.array([1, 2, 3, 4, 5])  \n",
    "print(arr)\n",
    "print(arr[0])\n",
    "#2-D Arrays\n",
    "import numpy as np \n",
    "arr = np.array([[1, 2, 3], [4, 5, 6]]) \n",
    "print(arr) \n",
    "print(arr[1][1]) \n",
    "print(arr[1])\n",
    "\n",
    "#Dimension\n",
    "import numpy as np \n",
    "arr = np.array([[1, 2, 3], [4, 5, 6]]) \n",
    "print(arr.ndim) \n",
    "\n",
    "#Size of each element (in bytes)\n",
    "import numpy as np \n",
    "arr = np.array([[1, 2, 3], [4, 5, 6]]) \n",
    "print(arr.itemsize) \n",
    "#Datatype\n",
    "import numpy as np \n",
    "arr = np.array([[1, 2, 3], [4, 5, 6]]) \n",
    "print(arr.dtype) \n",
    "   \n",
    "#Size and Shape\n",
    "import numpy as np \n",
    "arr = np.array([[1, 2, 3], [4, 5, 6]]) \n",
    "print(arr.size) \n",
    "print(arr.shape) \n",
    "\n",
    "#Reshape\n",
    "import numpy as np \n",
    "arr = np.array([[1, 2, 3], [4, 5, 6]]) \n",
    "a=arr.reshape(3,2)\n",
    "print(a) \n",
    "\n",
    "#Slicing\n",
    "import numpy as np \n",
    "arr = np.array([[1, 2, 3], [4, 5, 6]]) \n",
    "print(arr[0:,2]) \n",
    "\n",
    "#Min/Max/Sum\n",
    "import numpy as np \n",
    "arr = np.array([[1, 2, 3], [4, 5, 6]]) \n",
    "print(arr.min())\n",
    "print(arr.max())\n",
    "print(arr.sum())\n",
    "\n"
   ]
  },
  {
   "cell_type": "code",
   "execution_count": 11,
   "id": "c49f982d-9a68-4745-aef0-7d16071a47cb",
   "metadata": {},
   "outputs": [
    {
     "name": "stdout",
     "output_type": "stream",
     "text": [
      "[2 3 4 5]\n",
      "[5 6 7]\n",
      "[1 2 3 4]\n",
      "[5 6]\n",
      "[2 4]\n",
      "[1 3 5 7]\n"
     ]
    }
   ],
   "source": [
    "#3. Write a program for slicing arrays using numpy .\n",
    "import numpy as np \n",
    "arr = np.array([1, 2, 3, 4, 5, 6, 7]) \n",
    "print(arr[1:5]) \n",
    "print(arr[4:]) \n",
    "print(arr[:4]) \n",
    "print(arr[-3:-1]) \n",
    "print(arr[1:5:2])\n",
    "print(arr[::2])\n"
   ]
  },
  {
   "cell_type": "code",
   "execution_count": 13,
   "id": "bc315f16-69d0-4c58-895f-a8187ea2ff6d",
   "metadata": {},
   "outputs": [
    {
     "name": "stdout",
     "output_type": "stream",
     "text": [
      "[[1.         1.41421356 1.73205081]\n",
      " [2.         2.23606798 2.44948974]]\n",
      "1.707825127659933\n",
      "[[ 2  4  6]\n",
      " [ 8 10 12]]\n",
      "[[0 0 0]\n",
      " [0 0 0]]\n",
      "[[ 1  4  9]\n",
      " [16 25 36]]\n",
      "[[1. 1. 1.]\n",
      " [1. 1. 1.]]\n",
      "vstack: [[ 1  2  3]\n",
      " [ 4  5  6]\n",
      " [ 7  8  9]\n",
      " [10 11 12]]\n",
      "hstack: [[ 1  2  3  7  8  9]\n",
      " [ 4  5  6 10 11 12]]\n",
      "[1 2 3 4 5 6]\n"
     ]
    }
   ],
   "source": [
    "#4. Write a program for Math operations on array using numpy. \n",
    "#\tSquare Root and Standard Deviation\n",
    "import numpy as np\n",
    "arr=np.array([[1,2,3],[4,5,6]])\n",
    "print(np.sqrt(arr))\n",
    "print(np.std(arr))\n",
    "\n",
    "# Addition, subtraction, multiplication and division of the two matrices\n",
    "import numpy as np\n",
    "arr1=np.array([[1,2,3],[4,5,6]])\n",
    "arr2=np.array([[1,2,3],[4,5,6]])\n",
    "print(arr1+arr2)\n",
    "print(arr1-arr2)\n",
    "print(arr1*arr2)\n",
    "print(arr1/arr2)\n",
    "\n",
    "#Vertical and Horizontal Stacking\n",
    "import numpy as np\n",
    "arr1=np.array([[1,2,3],[4,5,6]])\n",
    "arr2=np.array([[7,8,9],[10,11,12]])\n",
    "print(\"vstack:\",np.vstack((arr1,arr2)))\n",
    "print(\"hstack:\",np.hstack((arr1,arr2)))\n",
    "#Ravel:\n",
    "import numpy as np\n",
    "arr=np.array([[1,2,3],[4,5,6]])\n",
    "print(np.ravel(arr))\n",
    "\n"
   ]
  },
  {
   "cell_type": "code",
   "execution_count": 14,
   "id": "f65bd56d-0292-4f82-b90e-9d16025712a4",
   "metadata": {},
   "outputs": [
    {
     "name": "stdout",
     "output_type": "stream",
     "text": [
      "(array([2], dtype=int64),)\n"
     ]
    }
   ],
   "source": [
    "#5. Write a program for searching .\n",
    "import numpy as np\n",
    "arr = np.array([10, 32, 30, 50, 20, 82, 91, 45])\n",
    "i = np.where(arr == 30)\n",
    "print(i)\n",
    "\n",
    "\n"
   ]
  },
  {
   "cell_type": "code",
   "execution_count": 15,
   "id": "6594887a-0330-45ac-9f05-87e2f1ec1466",
   "metadata": {},
   "outputs": [
    {
     "name": "stdout",
     "output_type": "stream",
     "text": [
      "[[ 1  2  3  4]\n",
      " [ 1  9 13 61]\n",
      " [22 24 43 88]]\n"
     ]
    }
   ],
   "source": [
    "#6.Write a program for sorting.\n",
    "import numpy as np  \n",
    "arr=np.array([[1,4,2,3],[9,13,61,1],[43,24,88,22]])  \n",
    "sort_arr=np.sort(arr)  \n",
    "print(sort_arr)\n",
    "\n"
   ]
  },
  {
   "cell_type": "code",
   "execution_count": null,
   "id": "e96211d4-0296-448c-92aa-22e266157c74",
   "metadata": {},
   "outputs": [],
   "source": [
    "\n",
    "\n"
   ]
  },
  {
   "cell_type": "code",
   "execution_count": null,
   "id": "d8c90f58-b5f3-4986-80e0-eb0730487c73",
   "metadata": {},
   "outputs": [],
   "source": []
  }
 ],
 "metadata": {
  "kernelspec": {
   "display_name": "Python 3 (ipykernel)",
   "language": "python",
   "name": "python3"
  },
  "language_info": {
   "codemirror_mode": {
    "name": "ipython",
    "version": 3
   },
   "file_extension": ".py",
   "mimetype": "text/x-python",
   "name": "python",
   "nbconvert_exporter": "python",
   "pygments_lexer": "ipython3",
   "version": "3.12.1"
  }
 },
 "nbformat": 4,
 "nbformat_minor": 5
}
