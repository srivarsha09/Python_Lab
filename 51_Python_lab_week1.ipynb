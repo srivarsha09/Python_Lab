{
 "cells": [
  {
   "cell_type": "code",
   "execution_count": 1,
   "id": "fec7c259-4ac5-4274-ab3b-19bb4f84a9e6",
   "metadata": {},
   "outputs": [
    {
     "name": "stdin",
     "output_type": "stream",
     "text": [
      "Enter Principal: 2000\n",
      "Enter Rate: 1\n",
      "Enter Time: 1\n",
      "Enter number of periods: 1\n"
     ]
    },
    {
     "name": "stdout",
     "output_type": "stream",
     "text": [
      "Compound Interest: 2000.0\n"
     ]
    }
   ],
   "source": [
    "#1.Write a program to calculate compound interest when principal, rate and number of periods are given.\n",
    "P=int(input(\"Enter Principal:\"))\n",
    "T=int(input(\"Enter Rate:\"))\n",
    "R=int(input(\"Enter Time:\"))\n",
    "n=int(input(\"Enter number of periods:\"))\n",
    "CI=P*((1+(R/n))**(n*T))-P\n",
    "print(\"Compound Interest:\",CI)"
   ]
  },
  {
   "cell_type": "code",
   "execution_count": 2,
   "id": "55b8312b-3f10-4799-bd00-7de11e045112",
   "metadata": {},
   "outputs": [
    {
     "name": "stdin",
     "output_type": "stream",
     "text": [
      "Enter x1: 4\n",
      "Enter y1: 2\n",
      "Enter x2: 5\n",
      "Enter y2: 4\n"
     ]
    },
    {
     "name": "stdout",
     "output_type": "stream",
     "text": [
      "Distance between the two points is : 2.23606797749979\n"
     ]
    }
   ],
   "source": [
    "#2.Given coordinates (x1, y1), (x2, y2) find the distance between two points\n",
    "import math\n",
    "x1=int(input(\"Enter x1:\"))\n",
    "y1=int(input(\"Enter y1:\"))\n",
    "x2=int(input(\"Enter x2:\"))\n",
    "y2=int(input(\"Enter y2:\"))\n",
    "d=math.sqrt((x1-x2)**2+(y1-y2)**2)\n",
    "print(\"Distance between the two points is :\",d)"
   ]
  },
  {
   "cell_type": "code",
   "execution_count": 3,
   "id": "cf359525-d662-487f-9d58-2feb89c50845",
   "metadata": {},
   "outputs": [
    {
     "name": "stdin",
     "output_type": "stream",
     "text": [
      "Enter name: sri\n",
      "Enter address: sai valley\n",
      "Enter email: srivarsha@yahoo.com\n",
      "Enter phone number: 9084638932\n"
     ]
    },
    {
     "name": "stdout",
     "output_type": "stream",
     "text": [
      "Name: sri\n",
      "Address: sai valley\n",
      "Email: srivarsha@yahoo.com\n",
      "Phone number: 9084638932\n"
     ]
    }
   ],
   "source": [
    "#5. Read name, address, email and phone number of a person through keyboard and print the details.\n",
    "name=input(\"Enter name:\")\n",
    "address=input(\"Enter address:\")\n",
    "email=input(\"Enter email:\")\n",
    "phoneNo=int(input(\"Enter phone number:\"))\n",
    "print(\"Name:\",name)\n",
    "print(\"Address:\",address)\n",
    "print(\"Email:\",email)\n",
    "print(\"Phone number:\",phoneNo)\n"
   ]
  },
  {
   "cell_type": "code",
   "execution_count": null,
   "id": "12728591-667c-49fc-a2b2-8a0064a0c23c",
   "metadata": {},
   "outputs": [],
   "source": []
  }
 ],
 "metadata": {
  "kernelspec": {
   "display_name": "Python 3 (ipykernel)",
   "language": "python",
   "name": "python3"
  },
  "language_info": {
   "codemirror_mode": {
    "name": "ipython",
    "version": 3
   },
   "file_extension": ".py",
   "mimetype": "text/x-python",
   "name": "python",
   "nbconvert_exporter": "python",
   "pygments_lexer": "ipython3",
   "version": "3.12.1"
  }
 },
 "nbformat": 4,
 "nbformat_minor": 5
}
