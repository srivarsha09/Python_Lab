{
 "cells": [
  {
   "cell_type": "code",
   "execution_count": 9,
   "id": "17b176f9-fa32-4362-ba76-069f7b504950",
   "metadata": {},
   "outputs": [
    {
     "name": "stdout",
     "output_type": "stream",
     "text": [
      "\n",
      "5 \n",
      "4 4 \n",
      "3 3 3 \n",
      "2 2 2 2 \n",
      "1 1 1 1 1 \n"
     ]
    }
   ],
   "source": [
    "#1. Print the below triangle using for loop.\n",
    "#5\n",
    "#4 4\n",
    "#3 3 3\n",
    "#2 2 2 2\n",
    "#1 1 1 1 1\n",
    "num_rows = 5\n",
    "\n",
    "for i in range(0,6):\n",
    "    for j in range(i):\n",
    "        print(5-i+1, end=' ')\n",
    "    print()"
   ]
  },
  {
   "cell_type": "code",
   "execution_count": 10,
   "id": "7e44b821-ad2b-4bf3-90bc-318e98622c05",
   "metadata": {},
   "outputs": [
    {
     "name": "stdin",
     "output_type": "stream",
     "text": [
      "Give input: k\n"
     ]
    },
    {
     "name": "stdout",
     "output_type": "stream",
     "text": [
      "k is lowercase\n"
     ]
    }
   ],
   "source": [
    "#2.Write a program to check whether the given input is digit or lowercase character or uppercase \n",
    "a=input(\"Give input:\")\n",
    "if a>='A' and a<='Z':\n",
    "    print(a,\"is Uppercase\")\n",
    "elif a>='a' and a<='z':\n",
    "    print(a,\"is lowercase\")\n",
    "elif a>=\"1\" and a<=\"9\":\n",
    "    print(a,\"is a digit\")\n",
    "else:\n",
    "    print(a,\"is a special character\")\n"
   ]
  },
  {
   "cell_type": "code",
   "execution_count": 11,
   "id": "1e2a864f-593b-4c13-b4a4-d47350ec29e1",
   "metadata": {},
   "outputs": [
    {
     "name": "stdout",
     "output_type": "stream",
     "text": [
      "0 1 1 2 3 5 8 13 21 34 "
     ]
    }
   ],
   "source": [
    "#3. Python Program to Print the Fibonacci sequence using while loop\n",
    "n= 10\n",
    "a, b = 0, 1\n",
    "count = 0\n",
    "while count < n:\n",
    "    print(a, end=' ')\n",
    "    a, b = b, a + b\n",
    "    count += 1"
   ]
  },
  {
   "cell_type": "code",
   "execution_count": 13,
   "id": "b590f616-9852-4c58-a6d1-857197ad971a",
   "metadata": {},
   "outputs": [
    {
     "name": "stdin",
     "output_type": "stream",
     "text": [
      "Enter n: 8\n"
     ]
    },
    {
     "name": "stdout",
     "output_type": "stream",
     "text": [
      "2\n",
      "3\n",
      "5\n",
      "7\n"
     ]
    }
   ],
   "source": [
    "#4.Python program to print all prime numbers in a given interval (use break)\n",
    "n=int(input(\"Enter n:\"))\n",
    "count=0\n",
    "for i in range(2,n):\n",
    "    count=0\n",
    "    for k in range(2,i):\n",
    "        if (i%k)==0:\n",
    "            count+=1\n",
    "    if count==0:\n",
    "        print(i)\n",
    "        "
   ]
  },
  {
   "cell_type": "code",
   "execution_count": 16,
   "id": "57041176-14e5-4cb3-9f7b-8b1022754b87",
   "metadata": {},
   "outputs": [
    {
     "name": "stdin",
     "output_type": "stream",
     "text": [
      " 7\n",
      " 8\n"
     ]
    },
    {
     "name": "stdout",
     "output_type": "stream",
     "text": [
      "56\n"
     ]
    }
   ],
   "source": [
    "#5.Write a program to compute LCM of two numbers by taking input from the user\n",
    "a=int(input())\n",
    "b=int(input())\n",
    "if a>b:\n",
    "    greater=a\n",
    "else:\n",
    "    greater=b\n",
    "while(True):\n",
    "    if((greater%a==0) and (greater%b==0)):\n",
    "        lcm=greater\n",
    "        break\n",
    "    greater+=1    \n",
    "print(lcm)"
   ]
  },
  {
   "cell_type": "code",
   "execution_count": null,
   "id": "2ee23485-247c-4cbb-9d66-4d24c2a0178b",
   "metadata": {},
   "outputs": [],
   "source": []
  },
  {
   "cell_type": "code",
   "execution_count": null,
   "id": "a558b37d-e6b2-4c7c-a91b-81d7cb0a250e",
   "metadata": {},
   "outputs": [],
   "source": []
  }
 ],
 "metadata": {
  "kernelspec": {
   "display_name": "Python 3 (ipykernel)",
   "language": "python",
   "name": "python3"
  },
  "language_info": {
   "codemirror_mode": {
    "name": "ipython",
    "version": 3
   },
   "file_extension": ".py",
   "mimetype": "text/x-python",
   "name": "python",
   "nbconvert_exporter": "python",
   "pygments_lexer": "ipython3",
   "version": "3.12.1"
  }
 },
 "nbformat": 4,
 "nbformat_minor": 5
}
